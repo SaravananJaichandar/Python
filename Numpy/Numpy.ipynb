{
 "cells": [
  {
   "cell_type": "markdown",
   "metadata": {},
   "source": [
    "                                        Working with NUMPY Library in Python"
   ]
  },
  {
   "cell_type": "markdown",
   "metadata": {},
   "source": [
    "Version of Numpy"
   ]
  },
  {
   "cell_type": "code",
   "execution_count": 4,
   "metadata": {},
   "outputs": [
    {
     "data": {
      "text/plain": [
       "'1.13.3'"
      ]
     },
     "execution_count": 4,
     "metadata": {},
     "output_type": "execute_result"
    }
   ],
   "source": [
    "import numpy as np\n",
    "np.__version__"
   ]
  },
  {
   "cell_type": "markdown",
   "metadata": {},
   "source": [
    "Original list into a One dimensional Array"
   ]
  },
  {
   "cell_type": "code",
   "execution_count": 5,
   "metadata": {},
   "outputs": [
    {
     "data": {
      "text/plain": [
       "array([  12.23,   13.32,  100.  ,   36.32])"
      ]
     },
     "execution_count": 5,
     "metadata": {},
     "output_type": "execute_result"
    }
   ],
   "source": [
    "lst = [12.23, 13.32, 100, 36.32]\n",
    "oneDarray = np.array(lst)\n",
    "oneDarray"
   ]
  },
  {
   "cell_type": "markdown",
   "metadata": {},
   "source": [
    "3x3 matrix ranging from 2 to 10"
   ]
  },
  {
   "cell_type": "code",
   "execution_count": 6,
   "metadata": {},
   "outputs": [
    {
     "data": {
      "text/plain": [
       "array([[ 2,  3,  4],\n",
       "       [ 5,  6,  7],\n",
       "       [ 8,  9, 10]])"
      ]
     },
     "execution_count": 6,
     "metadata": {},
     "output_type": "execute_result"
    }
   ],
   "source": [
    "n = np.arange(2,11).reshape(3,3)\n",
    "n"
   ]
  },
  {
   "cell_type": "markdown",
   "metadata": {},
   "source": [
    "Null vector with zeros of size 10 and update 6th element to 11"
   ]
  },
  {
   "cell_type": "code",
   "execution_count": 9,
   "metadata": {},
   "outputs": [
    {
     "data": {
      "text/plain": [
       "array([  0.,   0.,   0.,   0.,   0.,   0.,  11.,   0.,   0.,   0.])"
      ]
     },
     "execution_count": 9,
     "metadata": {},
     "output_type": "execute_result"
    }
   ],
   "source": [
    "nul = np.zeros(10)\n",
    "nul[6] = 11\n",
    "nul"
   ]
  },
  {
   "cell_type": "markdown",
   "metadata": {},
   "source": [
    "Array with values ranging from 12 to 38"
   ]
  },
  {
   "cell_type": "code",
   "execution_count": 16,
   "metadata": {},
   "outputs": [
    {
     "data": {
      "text/plain": [
       "array([12, 13, 14, 15, 16, 17, 18, 19, 20, 21, 22, 23, 24, 25, 26, 27, 28,\n",
       "       29, 30, 31, 32, 33, 34, 35, 36, 37])"
      ]
     },
     "execution_count": 16,
     "metadata": {},
     "output_type": "execute_result"
    }
   ],
   "source": [
    "arry = np.arange(12,38)\n",
    "arry"
   ]
  },
  {
   "cell_type": "markdown",
   "metadata": {},
   "source": [
    "Reverse an array (first element becomes last)"
   ]
  },
  {
   "cell_type": "code",
   "execution_count": 17,
   "metadata": {},
   "outputs": [
    {
     "data": {
      "text/plain": [
       "array([37, 13, 14, 15, 16, 17, 18, 19, 20, 21, 22, 23, 24, 25, 26, 27, 28,\n",
       "       29, 30, 31, 32, 33, 34, 35, 36, 12])"
      ]
     },
     "execution_count": 17,
     "metadata": {},
     "output_type": "execute_result"
    }
   ],
   "source": [
    "arry[0],arry[-1] = arry[-1],arry[0]\n",
    "arry"
   ]
  },
  {
   "cell_type": "markdown",
   "metadata": {},
   "source": [
    "Array converted to a float type"
   ]
  },
  {
   "cell_type": "code",
   "execution_count": 25,
   "metadata": {},
   "outputs": [
    {
     "data": {
      "text/plain": [
       "array([ 1.,  2.,  3.,  4.])"
      ]
     },
     "execution_count": 25,
     "metadata": {},
     "output_type": "execute_result"
    }
   ],
   "source": [
    "original = [1, 2, 3, 4] \n",
    "x = np.asfarray(original)\n",
    "type(x)\n",
    "x"
   ]
  },
  {
   "cell_type": "markdown",
   "metadata": {},
   "source": [
    "Create a 2d array with 1 on the border and 0 inside"
   ]
  },
  {
   "cell_type": "code",
   "execution_count": 31,
   "metadata": {},
   "outputs": [
    {
     "data": {
      "text/plain": [
       "array([[ 1.,  1.,  1.,  1.,  1.],\n",
       "       [ 0.,  0.,  0.,  0.,  0.],\n",
       "       [ 0.,  0.,  0.,  0.,  0.],\n",
       "       [ 0.,  0.,  0.,  0.,  0.],\n",
       "       [ 1.,  1.,  1.,  1.,  1.]])"
      ]
     },
     "execution_count": 31,
     "metadata": {},
     "output_type": "execute_result"
    }
   ],
   "source": [
    "ones = np.ones((5,5))\n",
    "ones[1:-1] = 0\n",
    "ones"
   ]
  },
  {
   "cell_type": "markdown",
   "metadata": {},
   "source": [
    "Add a border (filled with 0's) around an existing array"
   ]
  },
  {
   "cell_type": "code",
   "execution_count": 38,
   "metadata": {},
   "outputs": [
    {
     "data": {
      "text/plain": [
       "array([[ 0.,  0.,  0.,  0.,  0.],\n",
       "       [ 0.,  1.,  1.,  1.,  0.],\n",
       "       [ 0.,  1.,  1.,  1.,  0.],\n",
       "       [ 0.,  1.,  1.,  1.,  0.],\n",
       "       [ 0.,  0.,  0.,  0.,  0.]])"
      ]
     },
     "execution_count": 38,
     "metadata": {},
     "output_type": "execute_result"
    }
   ],
   "source": [
    "ones_arry = np.ones((3,3))\n",
    "ones_arry\n",
    "new_ones = np.pad(ones_arry,pad_width=1,mode=\"constant\",constant_values=0)\n",
    "new_ones"
   ]
  },
  {
   "cell_type": "markdown",
   "metadata": {},
   "source": [
    "Create a 8x8 matrix and fill it with a checkerboard pattern"
   ]
  },
  {
   "cell_type": "code",
   "execution_count": 43,
   "metadata": {},
   "outputs": [
    {
     "data": {
      "text/plain": [
       "array([[0, 1, 0, 1, 0, 1, 0, 1],\n",
       "       [1, 0, 1, 0, 1, 0, 1, 0],\n",
       "       [0, 1, 0, 1, 0, 1, 0, 1],\n",
       "       [1, 0, 1, 0, 1, 0, 1, 0],\n",
       "       [0, 1, 0, 1, 0, 1, 0, 1],\n",
       "       [1, 0, 1, 0, 1, 0, 1, 0],\n",
       "       [0, 1, 0, 1, 0, 1, 0, 1],\n",
       "       [1, 0, 1, 0, 1, 0, 1, 0]])"
      ]
     },
     "execution_count": 43,
     "metadata": {},
     "output_type": "execute_result"
    }
   ],
   "source": [
    "x=np.ones((3,3))\n",
    "x = np.zeros((8,8),dtype=int)\n",
    "x[1::2,::2] = 1\n",
    "x[::2,1::2] = 1\n",
    "x"
   ]
  },
  {
   "cell_type": "markdown",
   "metadata": {},
   "source": [
    "Convert a list and tuple into arrays"
   ]
  },
  {
   "cell_type": "code",
   "execution_count": 45,
   "metadata": {},
   "outputs": [
    {
     "name": "stdout",
     "output_type": "stream",
     "text": [
      "List to Array: [1 2 3 4 5 6 7 8]\n",
      "Tupule to Array: [[8 4 6]\n",
      " [1 2 3]]\n"
     ]
    }
   ],
   "source": [
    "my_list = [1, 2, 3, 4, 5, 6, 7, 8]\n",
    "print(\"List to Array:\",np.asarray(my_list))\n",
    "my_tupule = ([8, 4, 6], [1, 2, 3])\n",
    "print(\"Tupule to Array:\",np.asarray(my_tupule))"
   ]
  },
  {
   "cell_type": "markdown",
   "metadata": {},
   "source": [
    "Append values to the end of an array"
   ]
  },
  {
   "cell_type": "code",
   "execution_count": 52,
   "metadata": {},
   "outputs": [
    {
     "data": {
      "text/plain": [
       "array([10, 20, 30, 40, 50, 60, 70, 80, 90])"
      ]
     },
     "execution_count": 52,
     "metadata": {},
     "output_type": "execute_result"
    }
   ],
   "source": [
    "x = [10, 20, 30]\n",
    "x=np.append(x,[[40,50,60,70,80,90]])\n",
    "x"
   ]
  },
  {
   "cell_type": "markdown",
   "metadata": {},
   "source": [
    "Create an empty and a full array"
   ]
  },
  {
   "cell_type": "code",
   "execution_count": 57,
   "metadata": {},
   "outputs": [
    {
     "name": "stdout",
     "output_type": "stream",
     "text": [
      "Empty Array: [[ 0.  0.  0.  0.]\n",
      " [ 0.  0.  0.  0.]\n",
      " [ 0.  0.  0.  0.]]\n",
      "Full Array: [[6 6 6 6]\n",
      " [6 6 6 6]\n",
      " [6 6 6 6]]\n"
     ]
    }
   ],
   "source": [
    "x = np.empty((3,4))\n",
    "print(\"Empty Array:\",x)\n",
    "y = np.full((3,4),6)\n",
    "print(\"Full Array:\",y)"
   ]
  },
  {
   "cell_type": "markdown",
   "metadata": {},
   "source": [
    "find the real and imaginary parts of an array of complex numbers"
   ]
  },
  {
   "cell_type": "code",
   "execution_count": 60,
   "metadata": {},
   "outputs": [
    {
     "name": "stdout",
     "output_type": "stream",
     "text": [
      "[ 1.          0.70710678]\n",
      "[ 0.          0.70710678]\n"
     ]
    }
   ],
   "source": [
    "x = np.sqrt([1+0j, 0+1j])\n",
    "print(x.real)\n",
    "print(x.imag)"
   ]
  },
  {
   "cell_type": "markdown",
   "metadata": {},
   "source": [
    "number of elements of an array, length of one array element in bytes and total bytes consumed by the elements"
   ]
  },
  {
   "cell_type": "code",
   "execution_count": 63,
   "metadata": {},
   "outputs": [
    {
     "name": "stdout",
     "output_type": "stream",
     "text": [
      "size of array: 6\n",
      "Length of one array element in bytes: 4\n",
      "Total bytes consumed by the elements of the array: 24\n"
     ]
    }
   ],
   "source": [
    "x = [5,8,9,6,3,7]\n",
    "x = np.array(x)\n",
    "print(\"size of array:\",len(x))\n",
    "print(\"Length of one array element in bytes:\",x.itemsize)\n",
    "print(\"Total bytes consumed by the elements of the array:\",x.nbytes)"
   ]
  },
  {
   "cell_type": "markdown",
   "metadata": {},
   "source": [
    "Compare each element of array1 and array2 "
   ]
  },
  {
   "cell_type": "code",
   "execution_count": 68,
   "metadata": {},
   "outputs": [
    {
     "name": "stdout",
     "output_type": "stream",
     "text": [
      "[ 0 10 20 40 60]\n",
      "[ 0 40]\n",
      "[ True False False  True False]\n"
     ]
    }
   ],
   "source": [
    "array_1= np.array([0,10,20,40,60])\n",
    "array_2 = np.array([0,40])\n",
    "print(array_1)\n",
    "print(array_2)\n",
    "print(np.in1d(array_1, array_2))"
   ]
  },
  {
   "cell_type": "markdown",
   "metadata": {},
   "source": [
    "Common values between two arrays"
   ]
  },
  {
   "cell_type": "code",
   "execution_count": 69,
   "metadata": {},
   "outputs": [
    {
     "name": "stdout",
     "output_type": "stream",
     "text": [
      "[ 0 40]\n"
     ]
    }
   ],
   "source": [
    "print(np.intersect1d(array_1,array_2))"
   ]
  },
  {
   "cell_type": "markdown",
   "metadata": {},
   "source": [
    "Unique elements of an array"
   ]
  },
  {
   "cell_type": "code",
   "execution_count": 71,
   "metadata": {},
   "outputs": [
    {
     "name": "stdout",
     "output_type": "stream",
     "text": [
      "[ 0 10 20 50 70 80]\n"
     ]
    }
   ],
   "source": [
    "array_new = np.array([10,20,10,0,80,70,50,20,0,50])\n",
    "print(np.unique(array_new))"
   ]
  },
  {
   "cell_type": "markdown",
   "metadata": {},
   "source": [
    "set difference of two arrays"
   ]
  },
  {
   "cell_type": "code",
   "execution_count": 72,
   "metadata": {},
   "outputs": [
    {
     "name": "stdout",
     "output_type": "stream",
     "text": [
      "[ 0 20 60 80]\n"
     ]
    }
   ],
   "source": [
    "array_1 = np.array([0,10,20,40,60,80]) \n",
    "array_2 = np.array([10,30,40,50,70,90])\n",
    "print(np.setdiff1d(array_1,array_2))"
   ]
  },
  {
   "cell_type": "markdown",
   "metadata": {},
   "source": [
    "set exclusive-or of two arrays"
   ]
  },
  {
   "cell_type": "code",
   "execution_count": 73,
   "metadata": {},
   "outputs": [
    {
     "name": "stdout",
     "output_type": "stream",
     "text": [
      "[ 0 20 30 50 60 70 80 90]\n"
     ]
    }
   ],
   "source": [
    "print(np.setxor1d(array_1,array_2))"
   ]
  },
  {
   "cell_type": "markdown",
   "metadata": {},
   "source": [
    "union of two arrays"
   ]
  },
  {
   "cell_type": "code",
   "execution_count": 75,
   "metadata": {},
   "outputs": [
    {
     "name": "stdout",
     "output_type": "stream",
     "text": [
      "[ 0 10 20 30 40 50 60 70 80 90]\n"
     ]
    }
   ],
   "source": [
    "print(np.union1d(array_1,array_2))"
   ]
  },
  {
   "cell_type": "markdown",
   "metadata": {},
   "source": [
    "construct an array by repeating"
   ]
  },
  {
   "cell_type": "code",
   "execution_count": 76,
   "metadata": {},
   "outputs": [
    {
     "name": "stdout",
     "output_type": "stream",
     "text": [
      "[ 0 10 20 40 60 80  0 10 20 40 60 80]\n"
     ]
    }
   ],
   "source": [
    "print(np.tile(array_1,2))"
   ]
  },
  {
   "cell_type": "markdown",
   "metadata": {},
   "source": [
    "repeat elements of an array"
   ]
  },
  {
   "cell_type": "code",
   "execution_count": 77,
   "metadata": {},
   "outputs": [
    {
     "name": "stdout",
     "output_type": "stream",
     "text": [
      "[ 0  0 10 10 20 20 40 40 60 60 80 80]\n"
     ]
    }
   ],
   "source": [
    "print(np.repeat(array_1,2))"
   ]
  },
  {
   "cell_type": "markdown",
   "metadata": {},
   "source": [
    "find the indices of the maximum and minimum values along the given axis of an array"
   ]
  },
  {
   "cell_type": "code",
   "execution_count": 80,
   "metadata": {},
   "outputs": [
    {
     "name": "stdout",
     "output_type": "stream",
     "text": [
      "Maximum: 5\n",
      "Minimum: 0\n"
     ]
    }
   ],
   "source": [
    "print(\"Maximum:\",np.argmax(array_1))\n",
    "print(\"Minimum:\",np.argmin(array_1))"
   ]
  },
  {
   "cell_type": "markdown",
   "metadata": {},
   "source": [
    "sort an along the first, last axis of an array"
   ]
  },
  {
   "cell_type": "code",
   "execution_count": 81,
   "metadata": {},
   "outputs": [
    {
     "name": "stdout",
     "output_type": "stream",
     "text": [
      "Sorting along first axis: [[2 1]\n",
      " [4 6]]\n",
      "Sorting along last axis: [[4 6]\n",
      " [1 2]]\n"
     ]
    }
   ],
   "source": [
    "a = np.array([[4, 6],[2, 1]])\n",
    "print(\"Sorting along first axis:\",np.sort(a,axis=0))\n",
    "print(\"Sorting along last axis:\",np.sort(a,axis=1))"
   ]
  },
  {
   "cell_type": "markdown",
   "metadata": {},
   "source": [
    "Sort pairs of first name and last name return their indices"
   ]
  },
  {
   "cell_type": "code",
   "execution_count": 84,
   "metadata": {},
   "outputs": [
    {
     "name": "stdout",
     "output_type": "stream",
     "text": [
      "[1 3 2 4 0]\n"
     ]
    }
   ],
   "source": [
    "first_names = ('Margery', 'Betsey', 'Shelley', 'Lanell', 'Genesis')\n",
    "last_names = ('Woolum', 'Battle', 'Plotner', 'Brien', 'Stahl')\n",
    "print(np.lexsort((first_names,last_names)))"
   ]
  },
  {
   "cell_type": "markdown",
   "metadata": {},
   "source": [
    "Get the values and indices of the elements that are bigger than 10 in a given array"
   ]
  },
  {
   "cell_type": "code",
   "execution_count": 88,
   "metadata": {},
   "outputs": [
    {
     "name": "stdout",
     "output_type": "stream",
     "text": [
      "[20 40 60 80]\n",
      "(array([2, 3, 4, 5], dtype=int64),)\n"
     ]
    }
   ],
   "source": [
    "x = array_1[array_1>10]\n",
    "print(x)\n",
    "print(np.nonzero(array_1>10))"
   ]
  },
  {
   "cell_type": "markdown",
   "metadata": {},
   "source": [
    "save a NumPy array to a text file"
   ]
  },
  {
   "cell_type": "code",
   "execution_count": 89,
   "metadata": {
    "collapsed": true
   },
   "outputs": [],
   "source": [
    "np.savetxt(\"NumpyArray.out\",array_1,delimiter=\",\")"
   ]
  },
  {
   "cell_type": "markdown",
   "metadata": {},
   "source": [
    "create a contiguous flattened array"
   ]
  },
  {
   "cell_type": "code",
   "execution_count": 90,
   "metadata": {},
   "outputs": [
    {
     "name": "stdout",
     "output_type": "stream",
     "text": [
      "Flattened Array: [10 20 30 20 40 50]\n"
     ]
    }
   ],
   "source": [
    "x = np.array([[10, 20, 30], [20, 40, 50]])\n",
    "print(\"Flattened Array:\",np.ravel(x))"
   ]
  },
  {
   "cell_type": "markdown",
   "metadata": {},
   "source": [
    "Array of size 3*5 with all the elements 2"
   ]
  },
  {
   "cell_type": "code",
   "execution_count": 104,
   "metadata": {},
   "outputs": [
    {
     "data": {
      "text/plain": [
       "array([[2, 2, 2, 2, 2],\n",
       "       [2, 2, 2, 2, 2],\n",
       "       [2, 2, 2, 2, 2]])"
      ]
     },
     "execution_count": 104,
     "metadata": {},
     "output_type": "execute_result"
    }
   ],
   "source": [
    "z = np.full((3,5),2)\n",
    "z"
   ]
  },
  {
   "cell_type": "markdown",
   "metadata": {},
   "source": [
    "3-D array with ones on the diagonal and zeros elsewhere"
   ]
  },
  {
   "cell_type": "code",
   "execution_count": 105,
   "metadata": {},
   "outputs": [
    {
     "data": {
      "text/plain": [
       "array([[ 1.,  0.,  0.],\n",
       "       [ 0.,  1.,  0.],\n",
       "       [ 0.,  0.,  1.]])"
      ]
     },
     "execution_count": 105,
     "metadata": {},
     "output_type": "execute_result"
    }
   ],
   "source": [
    "g = np.eye(3)\n",
    "g"
   ]
  },
  {
   "cell_type": "markdown",
   "metadata": {},
   "source": [
    "2-D array whose diagonal equals [4, 5, 6, 8] and 0's elsewhere"
   ]
  },
  {
   "cell_type": "code",
   "execution_count": 106,
   "metadata": {},
   "outputs": [
    {
     "data": {
      "text/plain": [
       "array([[4, 0, 0, 0],\n",
       "       [0, 5, 0, 0],\n",
       "       [0, 0, 6, 0],\n",
       "       [0, 0, 0, 8]])"
      ]
     },
     "execution_count": 106,
     "metadata": {},
     "output_type": "execute_result"
    }
   ],
   "source": [
    "y = np.diagflat([4,5,6,8])\n",
    "y"
   ]
  },
  {
   "cell_type": "markdown",
   "metadata": {},
   "source": [
    "30 evenly spaced elements between 2.5 and 6.5"
   ]
  },
  {
   "cell_type": "code",
   "execution_count": 111,
   "metadata": {},
   "outputs": [
    {
     "data": {
      "text/plain": [
       "array([ 2.5       ,  2.63793103,  2.77586207,  2.9137931 ,  3.05172414,\n",
       "        3.18965517,  3.32758621,  3.46551724,  3.60344828,  3.74137931,\n",
       "        3.87931034,  4.01724138,  4.15517241,  4.29310345,  4.43103448,\n",
       "        4.56896552,  4.70689655,  4.84482759,  4.98275862,  5.12068966,\n",
       "        5.25862069,  5.39655172,  5.53448276,  5.67241379,  5.81034483,\n",
       "        5.94827586,  6.0862069 ,  6.22413793,  6.36206897,  6.5       ])"
      ]
     },
     "execution_count": 111,
     "metadata": {},
     "output_type": "execute_result"
    }
   ],
   "source": [
    "k = np.linspace(2.5,6.5,30)\n",
    "k"
   ]
  },
  {
   "cell_type": "markdown",
   "metadata": {},
   "source": [
    "1-D array of 20 element spaced evenly on a log scale between 2. and 5."
   ]
  },
  {
   "cell_type": "code",
   "execution_count": 114,
   "metadata": {},
   "outputs": [
    {
     "data": {
      "text/plain": [
       "array([   100.        ,    141.25375446,    199.5262315 ,    281.83829313,\n",
       "          398.10717055,    562.34132519,    794.32823472,   1122.0184543 ,\n",
       "         1584.89319246,   2238.72113857,   3162.27766017,   4466.83592151,\n",
       "         6309.5734448 ,   8912.50938134,  12589.25411794,  17782.79410039,\n",
       "        25118.8643151 ,  35481.33892336,  50118.72336273,  70794.57843841])"
      ]
     },
     "execution_count": 114,
     "metadata": {},
     "output_type": "execute_result"
    }
   ],
   "source": [
    "j = np.logspace(2.,5.,20,endpoint=False)\n",
    "j"
   ]
  },
  {
   "cell_type": "markdown",
   "metadata": {},
   "source": [
    "Print the following output"
   ]
  },
  {
   "cell_type": "code",
   "execution_count": 115,
   "metadata": {},
   "outputs": [
    {
     "data": {
      "text/plain": [
       "array([[ 0.,  0.,  0.],\n",
       "       [ 1.,  0.,  0.],\n",
       "       [ 1.,  1.,  0.],\n",
       "       [ 1.,  1.,  1.]])"
      ]
     },
     "execution_count": 115,
     "metadata": {},
     "output_type": "execute_result"
    }
   ],
   "source": [
    "p = np.tri(4,3,-1)\n",
    "p"
   ]
  },
  {
   "cell_type": "markdown",
   "metadata": {},
   "source": [
    "3-D Array to 1-D Array"
   ]
  },
  {
   "cell_type": "code",
   "execution_count": 117,
   "metadata": {},
   "outputs": [
    {
     "name": "stdout",
     "output_type": "stream",
     "text": [
      "[[ 1.  0.  0.]\n",
      " [ 0.  1.  0.]\n",
      " [ 0.  0.  1.]]\n",
      "[ 1.  0.  0.  0.  1.  0.  0.  0.  1.]\n"
     ]
    }
   ],
   "source": [
    "x = np.eye(3)\n",
    "print(x)\n",
    "print(np.ravel(x))"
   ]
  },
  {
   "cell_type": "markdown",
   "metadata": {},
   "source": [
    "concatenate two 2-dimensional arrays"
   ]
  },
  {
   "cell_type": "code",
   "execution_count": 119,
   "metadata": {},
   "outputs": [
    {
     "name": "stdout",
     "output_type": "stream",
     "text": [
      "[[ 0  1  3  0  2  4]\n",
      " [ 5  7  9  6  8 10]]\n"
     ]
    }
   ],
   "source": [
    "a = np.array([[0, 1, 3], [5, 7, 9]])\n",
    "b = np.array([[0, 2, 4], [6, 8, 10]])\n",
    "c = np.concatenate((a, b), 1)\n",
    "print(c)"
   ]
  },
  {
   "cell_type": "markdown",
   "metadata": {},
   "source": [
    "1-D arrays as columns into a 2-D array"
   ]
  },
  {
   "cell_type": "code",
   "execution_count": 120,
   "metadata": {},
   "outputs": [
    {
     "name": "stdout",
     "output_type": "stream",
     "text": [
      "[[10 40]\n",
      " [20 50]\n",
      " [30 60]]\n"
     ]
    }
   ],
   "source": [
    "a = np.array((10,20,30))\n",
    "b = np.array((40,50,60))\n",
    "c = np.column_stack((a, b))\n",
    "print(c)"
   ]
  },
  {
   "cell_type": "markdown",
   "metadata": {},
   "source": [
    "split an array of 14 elements into 3 arrays, each of which has 2, 4, and 8 elements in the original order"
   ]
  },
  {
   "cell_type": "code",
   "execution_count": 122,
   "metadata": {},
   "outputs": [
    {
     "name": "stdout",
     "output_type": "stream",
     "text": [
      "[ 1  2  3  4  5  6  7  8  9 10 11 12 13 14]\n",
      "After Splitting: [array([1, 2]), array([3, 4, 5, 6]), array([ 7,  8,  9, 10, 11, 12, 13, 14])]\n"
     ]
    }
   ],
   "source": [
    "d = np.arange(1,15)\n",
    "print(d)\n",
    "print(\"After Splitting:\",np.split(d,[2,6]))"
   ]
  },
  {
   "cell_type": "markdown",
   "metadata": {},
   "source": [
    "Get the number of nonzero elements in an array"
   ]
  },
  {
   "cell_type": "code",
   "execution_count": 123,
   "metadata": {},
   "outputs": [
    {
     "name": "stdout",
     "output_type": "stream",
     "text": [
      "14\n"
     ]
    }
   ],
   "source": [
    "print(np.count_nonzero(d))"
   ]
  },
  {
   "cell_type": "markdown",
   "metadata": {},
   "source": [
    "create a 5x5 matrix with row values ranging from 0 to 4"
   ]
  },
  {
   "cell_type": "code",
   "execution_count": 132,
   "metadata": {},
   "outputs": [
    {
     "data": {
      "text/plain": [
       "array([[ 0.,  1.,  2.,  3.,  4.],\n",
       "       [ 0.,  1.,  2.,  3.,  4.],\n",
       "       [ 0.,  1.,  2.,  3.,  4.],\n",
       "       [ 0.,  1.,  2.,  3.,  4.],\n",
       "       [ 0.,  1.,  2.,  3.,  4.]])"
      ]
     },
     "execution_count": 132,
     "metadata": {},
     "output_type": "execute_result"
    }
   ],
   "source": [
    "t = np.zeros((5,5))\n",
    "t += np.arange(5)\n",
    "t"
   ]
  },
  {
   "cell_type": "markdown",
   "metadata": {},
   "source": [
    "create a vector of size 10 with values ranging from 0 to 1, both excluded"
   ]
  },
  {
   "cell_type": "code",
   "execution_count": 136,
   "metadata": {},
   "outputs": [
    {
     "data": {
      "text/plain": [
       "array([ 0.09090909,  0.18181818,  0.27272727,  0.36363636,  0.45454545,\n",
       "        0.54545455,  0.63636364,  0.72727273,  0.81818182,  0.90909091])"
      ]
     },
     "execution_count": 136,
     "metadata": {},
     "output_type": "execute_result"
    }
   ],
   "source": [
    "x = np.linspace(0,1,12,endpoint=True)[1:-1]\n",
    "x"
   ]
  },
  {
   "cell_type": "markdown",
   "metadata": {},
   "source": [
    "make an array immutable (read-only)"
   ]
  },
  {
   "cell_type": "code",
   "execution_count": 139,
   "metadata": {},
   "outputs": [
    {
     "name": "stdout",
     "output_type": "stream",
     "text": [
      "[ 1.  1.  1.  1.  1.  1.  1.  1.  1.  1.]\n"
     ]
    },
    {
     "ename": "ValueError",
     "evalue": "assignment destination is read-only",
     "output_type": "error",
     "traceback": [
      "\u001b[1;31m---------------------------------------------------------------------------\u001b[0m",
      "\u001b[1;31mValueError\u001b[0m                                Traceback (most recent call last)",
      "\u001b[1;32m<ipython-input-139-9fdeb66125a4>\u001b[0m in \u001b[0;36m<module>\u001b[1;34m()\u001b[0m\n\u001b[0;32m      2\u001b[0m \u001b[0mprint\u001b[0m\u001b[1;33m(\u001b[0m\u001b[0mr\u001b[0m\u001b[1;33m)\u001b[0m\u001b[1;33m\u001b[0m\u001b[0m\n\u001b[0;32m      3\u001b[0m \u001b[0mr\u001b[0m\u001b[1;33m.\u001b[0m\u001b[0mflags\u001b[0m\u001b[1;33m.\u001b[0m\u001b[0mwriteable\u001b[0m \u001b[1;33m=\u001b[0m \u001b[1;32mFalse\u001b[0m\u001b[1;33m\u001b[0m\u001b[0m\n\u001b[1;32m----> 4\u001b[1;33m \u001b[0mr\u001b[0m\u001b[1;33m[\u001b[0m\u001b[1;36m4\u001b[0m\u001b[1;33m]\u001b[0m \u001b[1;33m=\u001b[0m \u001b[1;36m1\u001b[0m\u001b[1;33m\u001b[0m\u001b[0m\n\u001b[0m\u001b[0;32m      5\u001b[0m \u001b[0mprint\u001b[0m\u001b[1;33m(\u001b[0m\u001b[0mr\u001b[0m\u001b[1;33m)\u001b[0m\u001b[1;33m\u001b[0m\u001b[0m\n",
      "\u001b[1;31mValueError\u001b[0m: assignment destination is read-only"
     ]
    }
   ],
   "source": [
    "r = np.ones(10)\n",
    "print(r)\n",
    "r.flags.writeable = False\n",
    "r[4] = 1\n",
    "print(r)"
   ]
  },
  {
   "cell_type": "markdown",
   "metadata": {},
   "source": [
    "sum of all the multiples of 3 or 5 below 100"
   ]
  },
  {
   "cell_type": "code",
   "execution_count": 155,
   "metadata": {},
   "outputs": [
    {
     "name": "stdout",
     "output_type": "stream",
     "text": [
      "[ 3  5  6  9 10 12 15 18 20 21 24 25 27 30 33 35 36 39 40 42 45 48 50 51 54\n",
      " 55 57 60 63 65 66 69 70 72 75 78 80 81 84 85 87 90 93 95 96 99]\n",
      "Sum of Array 2318\n"
     ]
    }
   ],
   "source": [
    "x = np.arange(1, 100)\n",
    "n= x[(x % 3 == 0) | (x % 5 == 0)]\n",
    "print(n[:100])\n",
    "print(\"Sum of Array\",n.sum())"
   ]
  },
  {
   "cell_type": "markdown",
   "metadata": {},
   "source": [
    "5x5 cube of 1's"
   ]
  },
  {
   "cell_type": "code",
   "execution_count": null,
   "metadata": {
    "collapsed": true
   },
   "outputs": [],
   "source": [
    "x = np.ones((5,5,5))\n",
    "x"
   ]
  },
  {
   "cell_type": "markdown",
   "metadata": {},
   "source": [
    "create an array of (3, 4) shape, multiply every element value by 3 and display the new array"
   ]
  },
  {
   "cell_type": "code",
   "execution_count": 172,
   "metadata": {},
   "outputs": [
    {
     "name": "stdout",
     "output_type": "stream",
     "text": [
      "Old array: [[ 0  1  2  3]\n",
      " [ 4  5  6  7]\n",
      " [ 8  9 10 11]]\n",
      "New array: [[ 0  3  6  9]\n",
      " [12 15 18 21]\n",
      " [24 27 30 33]]\n"
     ]
    }
   ],
   "source": [
    "e = np.arange(12).reshape(3,4)\n",
    "print(\"Old array:\",e)\n",
    "e = e*3\n",
    "print(\"New array:\",e)"
   ]
  },
  {
   "cell_type": "markdown",
   "metadata": {},
   "source": [
    "Create a function that cubes the elements of the array"
   ]
  },
  {
   "cell_type": "code",
   "execution_count": 186,
   "metadata": {},
   "outputs": [
    {
     "data": {
      "text/plain": [
       "[8]"
      ]
     },
     "execution_count": 186,
     "metadata": {},
     "output_type": "execute_result"
    }
   ],
   "source": [
    "def cube_function(array):\n",
    "    for each in array:\n",
    "        new_list = []\n",
    "        n = each*each*each\n",
    "        new_list.append(n)\n",
    "    return new_list\n",
    "h = np.array([2])\n",
    "cube_function(h)"
   ]
  },
  {
   "cell_type": "markdown",
   "metadata": {},
   "source": [
    "NumPy array into Python list"
   ]
  },
  {
   "cell_type": "code",
   "execution_count": 191,
   "metadata": {},
   "outputs": [
    {
     "name": "stdout",
     "output_type": "stream",
     "text": [
      "[[0 1]\n",
      " [2 3]\n",
      " [4 5]]\n",
      "[[0, 1], [2, 3], [4, 5]]\n"
     ]
    }
   ],
   "source": [
    "l = np.arange(6).reshape(3,2)\n",
    "print(l)\n",
    "print(l.tolist())"
   ]
  },
  {
   "cell_type": "markdown",
   "metadata": {},
   "source": [
    "add an extra column to an numpy array"
   ]
  },
  {
   "cell_type": "code",
   "execution_count": 196,
   "metadata": {},
   "outputs": [
    {
     "name": "stdout",
     "output_type": "stream",
     "text": [
      "[[10 20 30 90]\n",
      " [40 50 60 80]]\n"
     ]
    }
   ],
   "source": [
    "x = np.array([[10,20,30],[40,50,60]])\n",
    "y = np.array([[90],[80]])\n",
    "print(np.append(x,y,axis=1))"
   ]
  },
  {
   "cell_type": "markdown",
   "metadata": {},
   "source": [
    "find unique rows in a numpy array"
   ]
  },
  {
   "cell_type": "code",
   "execution_count": 198,
   "metadata": {},
   "outputs": [
    {
     "name": "stdout",
     "output_type": "stream",
     "text": [
      "[[ 0 20 20 20]\n",
      " [10 20 20 20]\n",
      " [20 20 20  0]]\n"
     ]
    }
   ],
   "source": [
    "x = np.array([[20, 20, 20, 0],\n",
    "              [0, 20, 20, 20],\n",
    "              [0, 20, 20, 20],\n",
    "              [20, 20, 20, 0],\n",
    "              [10, 20, 20,20]])\n",
    "print(np.unique(x,axis=0))"
   ]
  },
  {
   "cell_type": "markdown",
   "metadata": {},
   "source": [
    "replace all elements of numpy array that are greater than specified array(0.5)"
   ]
  },
  {
   "cell_type": "code",
   "execution_count": 203,
   "metadata": {},
   "outputs": [
    {
     "name": "stdout",
     "output_type": "stream",
     "text": [
      "[[ 0.42436315  0.48558583  0.32924763]\n",
      " [ 0.7439979   0.58220701  0.38213418]\n",
      " [ 0.5097581   0.34528799  0.1563123 ]]\n",
      "[[ 0.42436315  0.48558583  0.32924763]\n",
      " [ 0.5         0.5         0.38213418]\n",
      " [ 0.5         0.34528799  0.1563123 ]]\n"
     ]
    }
   ],
   "source": [
    "b = np.array([[ 0.42436315,0.48558583,0.32924763], \n",
    "[ 0.7439979,0.58220701,0.38213418],\n",
    "[ 0.5097581,0.34528799,0.1563123 ]])\n",
    "print(b)\n",
    "b[b>0.5] =0.5\n",
    "print(b)"
   ]
  },
  {
   "cell_type": "markdown",
   "metadata": {},
   "source": [
    "remove specific elements in a numpy array"
   ]
  },
  {
   "cell_type": "code",
   "execution_count": 204,
   "metadata": {},
   "outputs": [
    {
     "data": {
      "text/plain": [
       "array([ 20,  30,  60,  70,  80,  90, 100])"
      ]
     },
     "execution_count": 204,
     "metadata": {},
     "output_type": "execute_result"
    }
   ],
   "source": [
    "x = np.array([10, 20, 30, 40, 50, 60, 70, 80, 90, 100])\n",
    "index = [0, 3, 4]\n",
    "new_x =np.delete(x,index)\n",
    "new_x"
   ]
  },
  {
   "cell_type": "markdown",
   "metadata": {},
   "source": [
    "remove the negative values in a numpy array"
   ]
  },
  {
   "cell_type": "code",
   "execution_count": 211,
   "metadata": {},
   "outputs": [
    {
     "data": {
      "text/plain": [
       "array([0, 2, 3, 4, 5])"
      ]
     },
     "execution_count": 211,
     "metadata": {},
     "output_type": "execute_result"
    }
   ],
   "source": [
    "x = np.array([-1, -4, 0, 2, 3, 4, 5, -6])\n",
    "x = x[x>=0]\n",
    "x"
   ]
  },
  {
   "cell_type": "markdown",
   "metadata": {},
   "source": [
    "Generate five random numbers from the normal distribution"
   ]
  },
  {
   "cell_type": "code",
   "execution_count": 212,
   "metadata": {},
   "outputs": [
    {
     "data": {
      "text/plain": [
       "array([ 0.25883812, -0.33435345, -1.49659659, -1.53245681,  1.96459441])"
      ]
     },
     "execution_count": 212,
     "metadata": {},
     "output_type": "execute_result"
    }
   ],
   "source": [
    "v = np.random.normal(size=5)\n",
    "v"
   ]
  },
  {
   "cell_type": "markdown",
   "metadata": {},
   "source": [
    "generate six random integers between 10 and 30"
   ]
  },
  {
   "cell_type": "code",
   "execution_count": 216,
   "metadata": {},
   "outputs": [
    {
     "data": {
      "text/plain": [
       "array([27, 10, 24, 10, 24, 21])"
      ]
     },
     "execution_count": 216,
     "metadata": {},
     "output_type": "execute_result"
    }
   ],
   "source": [
    "z = np.random.randint(low=10, high=30, size=6)\n",
    "z"
   ]
  },
  {
   "cell_type": "markdown",
   "metadata": {},
   "source": [
    "create a 3x3x3 array with random values"
   ]
  },
  {
   "cell_type": "code",
   "execution_count": 217,
   "metadata": {},
   "outputs": [
    {
     "data": {
      "text/plain": [
       "array([[[ 0.73886242,  0.04256758,  0.32532006],\n",
       "        [ 0.16970166,  0.12212208,  0.81863158],\n",
       "        [ 0.19004961,  0.64619246,  0.89779937]],\n",
       "\n",
       "       [[ 0.54173358,  0.27675265,  0.00385821],\n",
       "        [ 0.48346802,  0.65384114,  0.67821101],\n",
       "        [ 0.39233905,  0.8500908 ,  0.56624479]],\n",
       "\n",
       "       [[ 0.69627853,  0.35673363,  0.22245533],\n",
       "        [ 0.37567109,  0.16180828,  0.34451385],\n",
       "        [ 0.12976663,  0.32702112,  0.28254109]]])"
      ]
     },
     "execution_count": 217,
     "metadata": {},
     "output_type": "execute_result"
    }
   ],
   "source": [
    "n = np.random.random((3,3,3))\n",
    "n"
   ]
  },
  {
   "cell_type": "markdown",
   "metadata": {},
   "source": [
    "create a 5x5 array with random values and find the minimum and maximum values"
   ]
  },
  {
   "cell_type": "code",
   "execution_count": 222,
   "metadata": {},
   "outputs": [
    {
     "name": "stdout",
     "output_type": "stream",
     "text": [
      "[[ 0.65582849  0.12964971  0.06422655  0.22145755  0.77793533]\n",
      " [ 0.32593949  0.95078511  0.97568779  0.63820218  0.50385252]\n",
      " [ 0.778742    0.25309995  0.00438537  0.40575788  0.35395811]\n",
      " [ 0.79376793  0.42399436  0.93665012  0.77089152  0.64553236]\n",
      " [ 0.95131804  0.05173477  0.48571121  0.89362633  0.0864523 ]]\n",
      "0.004385365994\n",
      "0.975687787509\n"
     ]
    }
   ],
   "source": [
    "m = np.random.random((5,5))\n",
    "print(m)\n",
    "print(m.min())\n",
    "print(m.max())"
   ]
  },
  {
   "cell_type": "markdown",
   "metadata": {},
   "source": [
    "create a random 10x4 array and extract the first five rows of the array and store them into a variable"
   ]
  },
  {
   "cell_type": "code",
   "execution_count": 224,
   "metadata": {},
   "outputs": [
    {
     "name": "stdout",
     "output_type": "stream",
     "text": [
      "[[ 0.13456571  0.62658852  0.43571866  0.69323661]\n",
      " [ 0.14721521  0.27239336  0.71458833  0.78456403]\n",
      " [ 0.40631469  0.45897363  0.35908726  0.14288813]\n",
      " [ 0.68842905  0.08315403  0.52806526  0.97672761]\n",
      " [ 0.38652253  0.44331199  0.95569469  0.25910812]\n",
      " [ 0.516383    0.5139593   0.89084732  0.73665844]\n",
      " [ 0.84374882  0.09173827  0.62161418  0.12379594]\n",
      " [ 0.58070748  0.37579709  0.07649182  0.62808887]\n",
      " [ 0.42358167  0.85152633  0.17173106  0.37734668]\n",
      " [ 0.62008571  0.60442172  0.69260717  0.47656945]]\n",
      "[[ 0.13456571  0.62658852  0.43571866  0.69323661]\n",
      " [ 0.14721521  0.27239336  0.71458833  0.78456403]\n",
      " [ 0.40631469  0.45897363  0.35908726  0.14288813]\n",
      " [ 0.68842905  0.08315403  0.52806526  0.97672761]\n",
      " [ 0.38652253  0.44331199  0.95569469  0.25910812]]\n"
     ]
    }
   ],
   "source": [
    "u = np.random.random((10,4))\n",
    "print(u)\n",
    "f = u[:5]\n",
    "print(f)"
   ]
  },
  {
   "cell_type": "markdown",
   "metadata": {},
   "source": [
    "shuffle numbers between 0 and 10 (inclusive)"
   ]
  },
  {
   "cell_type": "code",
   "execution_count": 227,
   "metadata": {},
   "outputs": [
    {
     "name": "stdout",
     "output_type": "stream",
     "text": [
      "[0 1 2 3 4 5 6 7 8 9]\n",
      "[7 1 0 8 6 9 4 5 2 3]\n"
     ]
    }
   ],
   "source": [
    "i = np.arange(10)\n",
    "print(i)\n",
    "np.random.shuffle(i)\n",
    "print(i)"
   ]
  },
  {
   "cell_type": "markdown",
   "metadata": {},
   "source": [
    "normalize a 3x3 random matrix"
   ]
  },
  {
   "cell_type": "code",
   "execution_count": 233,
   "metadata": {},
   "outputs": [
    {
     "name": "stdout",
     "output_type": "stream",
     "text": [
      "[[  6.69594394e-01   4.82501256e-04   3.90882138e-01]\n",
      " [  3.14771651e-01   1.87412499e-01   8.79565392e-01]\n",
      " [  4.57404009e-01   9.93158882e-01   2.92258912e-01]]\n",
      "After Normalization\n",
      "[  5.03640219e+00   3.02164689e+00   2.01426924e+00  -4.86060981e-04\n",
      "   4.02902454e+00]\n"
     ]
    }
   ],
   "source": [
    "p = np.random.random((3,3))\n",
    "print(p)\n",
    "xmax= p.max()\n",
    "xmin = p.min()\n",
    "print(\"After Normalization\")\n",
    "x = (x-xmin) / (xmax - xmin)\n",
    "print(x)"
   ]
  },
  {
   "cell_type": "markdown",
   "metadata": {},
   "source": [
    "check two random arrays are equal or not"
   ]
  },
  {
   "cell_type": "code",
   "execution_count": 242,
   "metadata": {},
   "outputs": [
    {
     "name": "stdout",
     "output_type": "stream",
     "text": [
      "[6 5 2 9 2]\n",
      "[9 5 3 4 3]\n",
      "False\n"
     ]
    }
   ],
   "source": [
    "x = np.random.randint(1,10,5)\n",
    "print(x)\n",
    "y = np.random.randint(1,10,5)\n",
    "print(y)\n",
    "result = np.allclose(x,y)\n",
    "print(result)"
   ]
  },
  {
   "cell_type": "markdown",
   "metadata": {},
   "source": [
    " create random vector of size 15 and replace the maximum value by -1"
   ]
  },
  {
   "cell_type": "code",
   "execution_count": 246,
   "metadata": {},
   "outputs": [
    {
     "name": "stdout",
     "output_type": "stream",
     "text": [
      "Before replacing: [-1.61396275  0.88658727 -1.83870542 -0.25257271 -0.56723638  1.23255166\n",
      " -0.18085912  0.03072198  1.19772276  0.97926317  0.05645149  1.18121509\n",
      " -0.18362173 -0.44019234 -0.80245824]\n",
      "Maximum: 1.2325516636\n",
      "After replacing: [-1.61396275  0.88658727 -1.83870542 -0.25257271 -0.56723638 -1.\n",
      " -0.18085912  0.03072198 -1.          0.97926317  0.05645149 -1.\n",
      " -0.18362173 -0.44019234 -0.80245824]\n"
     ]
    }
   ],
   "source": [
    "u = np.random.normal(size=15)\n",
    "print(\"Before replacing:\",u)\n",
    "print(\"Maximum:\",u.max())\n",
    "u[u>1]=-1\n",
    "print(\"After replacing:\",u)"
   ]
  },
  {
   "cell_type": "markdown",
   "metadata": {},
   "source": [
    "find the most frequent value in an array"
   ]
  },
  {
   "cell_type": "code",
   "execution_count": 247,
   "metadata": {},
   "outputs": [
    {
     "name": "stdout",
     "output_type": "stream",
     "text": [
      "Elements in the array: [5 2 4 2 0 6 4 9 5 6 7 1 9 6 2 0 9 8 6 8]\n",
      "Most Frequent elements in the array: 6\n"
     ]
    }
   ],
   "source": [
    "s = np.random.randint(0,10,20)\n",
    "print(\"Elements in the array:\",s)\n",
    "print(\"Most Frequent elements in the array:\",np.bincount(s).argmax())"
   ]
  },
  {
   "cell_type": "markdown",
   "metadata": {},
   "source": [
    "                                        Working with DateTime in NumPy"
   ]
  },
  {
   "cell_type": "markdown",
   "metadata": {},
   "source": [
    "display all the dates for the month of March, 2017"
   ]
  },
  {
   "cell_type": "code",
   "execution_count": 252,
   "metadata": {},
   "outputs": [
    {
     "name": "stdout",
     "output_type": "stream",
     "text": [
      "July 2017\n",
      "['2017-07-01' '2017-07-02' '2017-07-03' '2017-07-04' '2017-07-05'\n",
      " '2017-07-06' '2017-07-07' '2017-07-08' '2017-07-09' '2017-07-10'\n",
      " '2017-07-11' '2017-07-12' '2017-07-13' '2017-07-14' '2017-07-15'\n",
      " '2017-07-16' '2017-07-17' '2017-07-18' '2017-07-19' '2017-07-20'\n",
      " '2017-07-21' '2017-07-22' '2017-07-23' '2017-07-24' '2017-07-25'\n",
      " '2017-07-26' '2017-07-27' '2017-07-28' '2017-07-29' '2017-07-30'\n",
      " '2017-07-31']\n"
     ]
    }
   ],
   "source": [
    "print(\"July 2017\")\n",
    "print(np.arange('2017-07','2017-08',dtype='datetime64[D]'))\n"
   ]
  },
  {
   "cell_type": "markdown",
   "metadata": {},
   "source": [
    "get the dates of yesterday, today and tomorrow"
   ]
  },
  {
   "cell_type": "code",
   "execution_count": 255,
   "metadata": {},
   "outputs": [
    {
     "name": "stdout",
     "output_type": "stream",
     "text": [
      "today: 2017-12-04\n",
      "yesterday: 2017-12-03\n",
      "tomorrow: 2017-12-05\n"
     ]
    }
   ],
   "source": [
    "today = np.datetime64('today','D')\n",
    "print(\"today:\",today)\n",
    "yesterday = np.datetime64('today','D') - np.timedelta64(1,'D')\n",
    "print(\"yesterday:\",yesterday)\n",
    "tomorrow = np.datetime64('today','D') + np.timedelta64(1,'D')\n",
    "print(\"tomorrow:\",tomorrow)"
   ]
  },
  {
   "cell_type": "markdown",
   "metadata": {},
   "source": [
    "count the number of days of a given month"
   ]
  },
  {
   "cell_type": "code",
   "execution_count": 258,
   "metadata": {},
   "outputs": [
    {
     "name": "stdout",
     "output_type": "stream",
     "text": [
      "Number of days in July 2017\n",
      "31 days\n",
      "Number of days in July 2018\n",
      "31 days\n",
      "Number of days in July 2019\n",
      "31 days\n"
     ]
    }
   ],
   "source": [
    "print(\"Number of days in July 2017\")\n",
    "print(np.datetime64('2017-08-01')-np.datetime64('2017-07-01'))\n",
    "print(\"Number of days in July 2018\")\n",
    "print(np.datetime64('2018-08-01')-np.datetime64('2018-07-01'))\n",
    "print(\"Number of days in July 2019\")\n",
    "print(np.datetime64('2019-08-01')-np.datetime64('2019-07-01'))"
   ]
  },
  {
   "cell_type": "markdown",
   "metadata": {},
   "source": [
    "convert numpy datetime64 to Timestamp"
   ]
  },
  {
   "cell_type": "code",
   "execution_count": 266,
   "metadata": {},
   "outputs": [
    {
     "name": "stdout",
     "output_type": "stream",
     "text": [
      "Current date and time:\n",
      "2017-12-04 09:23:18.981972\n",
      "Time Stamp:\n",
      "1512379398.98\n"
     ]
    },
    {
     "name": "stderr",
     "output_type": "stream",
     "text": [
      "C:\\Anaconda3\\lib\\site-packages\\ipykernel_launcher.py:9: DeprecationWarning: parsing timezone aware datetimes is deprecated; this will raise an error in the future\n",
      "  if __name__ == '__main__':\n"
     ]
    }
   ],
   "source": [
    "from datetime import datetime\n",
    "print(\"Current date and time:\")\n",
    "date_time = datetime.utcnow()\n",
    "print(date_time)\n",
    "\n",
    "datetime_numpy = np.datetime64(date_time)\n",
    "\n",
    "print(\"Time Stamp:\")\n",
    "time_stamp = (datetime_numpy - np.datetime64('1970-01-01T00:00:00Z')) / (np.timedelta64(1,'s'))\n",
    "print(time_stamp)"
   ]
  }
 ],
 "metadata": {
  "kernelspec": {
   "display_name": "Python 3",
   "language": "python",
   "name": "python3"
  },
  "language_info": {
   "codemirror_mode": {
    "name": "ipython",
    "version": 3
   },
   "file_extension": ".py",
   "mimetype": "text/x-python",
   "name": "python",
   "nbconvert_exporter": "python",
   "pygments_lexer": "ipython3",
   "version": "3.6.1"
  }
 },
 "nbformat": 4,
 "nbformat_minor": 2
}
